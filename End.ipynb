{
 "cells": [
  {
   "cell_type": "code",
   "execution_count": 2,
   "metadata": {},
   "outputs": [],
   "source": [
    "# We have to import all the packages we need to scrape the website\n",
    "from bs4 import BeautifulSoup as bs\n",
    "from random import choice\n",
    "import requests as rs\n",
    "from csv import writer \n",
    "from time import sleep\n"
   ]
  },
  {
   "cell_type": "code",
   "execution_count": 3,
   "metadata": {},
   "outputs": [
    {
     "name": "stdout",
     "output_type": "stream",
     "text": [
      "<Response [200]>\n"
     ]
    }
   ],
   "source": [
    "# we have to state the website and test if it is responsive\n",
    "\n",
    "base_url = \"https://quotes.toscrape.com/\"\n",
    "\n",
    "url= \"page/1/\"\n",
    "\n",
    "print(rs.get (base_url))"
   ]
  },
  {
   "cell_type": "code",
   "execution_count": 4,
   "metadata": {},
   "outputs": [
    {
     "name": "stdout",
     "output_type": "stream",
     "text": [
      "we are now scraping fromhttps://quotes.toscrape.com/page/1/\n",
      "we are now scraping fromhttps://quotes.toscrape.com//page/2/\n",
      "we are now scraping fromhttps://quotes.toscrape.com//page/3/\n",
      "we are now scraping fromhttps://quotes.toscrape.com//page/4/\n",
      "we are now scraping fromhttps://quotes.toscrape.com//page/5/\n",
      "we are now scraping fromhttps://quotes.toscrape.com//page/6/\n",
      "we are now scraping fromhttps://quotes.toscrape.com//page/7/\n",
      "we are now scraping fromhttps://quotes.toscrape.com//page/8/\n",
      "we are now scraping fromhttps://quotes.toscrape.com//page/9/\n",
      "we are now scraping fromhttps://quotes.toscrape.com//page/10/\n"
     ]
    }
   ],
   "source": [
    "all_quotes= []\n",
    "\n",
    "\n",
    "while url :\n",
    "    response= rs.get(f\"{base_url}{url}\")\n",
    "\n",
    "    print(\"we are now scraping from\" f\"{base_url}{url}\")\n",
    "\n",
    "    soup = bs(response.text, \"html.parser\")\n",
    "\n",
    "    quotes = soup.find_all(class_=\"quote\")\n",
    "\n",
    "\n",
    "    for quote in quotes:\n",
    "        all_quotes.append({\n",
    "            \"text\": quote.find(class_=\"text\").get_text(),\n",
    "            \"author\": quote.find (class_=\"author\").get_text(),\n",
    "            \"bio-link\": quote.find(\"a\")[\"href\"]\n",
    "            })\n",
    "        \n",
    "    next_btn= soup.find(class_=\"next\")\n",
    "\n",
    "    url = next_btn.find(\"a\")[\"href\"] if next_btn else None\n",
    "\n",
    "    sleep(2)\n",
    "\n",
    "    "
   ]
  },
  {
   "cell_type": "code",
   "execution_count": 10,
   "metadata": {},
   "outputs": [
    {
     "name": "stdout",
     "output_type": "stream",
     "text": [
      " Here is a quote : \n",
      "“A lady's imagination is very rapid; it jumps from admiration to love, from love to matrimony in a moment.”\n",
      " Here is a  hint : The author's was born on December 16, 1775in Steventon Rectory, Hampshire, The United Kingdom\n",
      "Here is a hint: The authors last name starts with J\n",
      "Here is a hint, the authors last name starts with : A\n",
      " Sorry, you have ran out of guesses. The answer was Jane Austen\n"
     ]
    }
   ],
   "source": [
    "quote = choice(all_quotes)\n",
    "remaining_guesses = 4\n",
    "print(\" Here is a quote : \")\n",
    "print (quote['text'])\n",
    "\n",
    "\n",
    "guess= \"\"\n",
    "\n",
    "while guess.lower()!= quote[\"author\"].lower() and remaining_guesses>0:\n",
    "    guess= input(f\"Who said this quote? Guesses remaining {remaining_guesses}\")\n",
    "   \n",
    "    if guess==quote [\"author\"]:\n",
    "        print( \"Congratulations you got this right\")\n",
    "        break\n",
    "    \n",
    "    remaining_guesses-=1\n",
    "    \n",
    "    if remaining_guesses==3:\n",
    "        response= rs.get(f'{base_url}{quote[\"bio-link\"]}')\n",
    "        soup= bs(response.text, \"html.parser\")\n",
    "        birth_date = soup.find (class_= \"author-born-date\").get_text()\n",
    "        birth_place=soup.find(class_= \"author-born-location\").get_text()\n",
    "        print( f\" Here is a  hint : The author's was born on {birth_date}{birth_place}\")\n",
    "    \n",
    "    elif remaining_guesses==2:\n",
    "        print (f'Here is a hint: The authors last name starts with {quote[\"author\"][0]}')\n",
    "           \n",
    "    elif  remaining_guesses==1:\n",
    "        last_initial = quote[\"author\"].split(\" \")[1][0]\n",
    "        print(f'Here is a hint, the authors last name starts with : {last_initial}')\n",
    "\n",
    "    else:\n",
    "        print (f\" Sorry, you have ran out of guesses. The answer was {quote['author']}\")"
   ]
  }
 ],
 "metadata": {
  "kernelspec": {
   "display_name": "Python 3",
   "language": "python",
   "name": "python3"
  },
  "language_info": {
   "codemirror_mode": {
    "name": "ipython",
    "version": 3
   },
   "file_extension": ".py",
   "mimetype": "text/x-python",
   "name": "python",
   "nbconvert_exporter": "python",
   "pygments_lexer": "ipython3",
   "version": "3.11.9"
  }
 },
 "nbformat": 4,
 "nbformat_minor": 2
}
